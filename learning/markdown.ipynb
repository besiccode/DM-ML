{
 "cells": [
  {
   "cell_type": "markdown",
   "metadata": {},
   "source": [
    "## 修炼技巧之:\n",
    "***\n",
    "* Markdown\n",
    "* LateX\n",
    "* html\n",
    "\n"
   ]
  },
  {
   "cell_type": "markdown",
   "metadata": {},
   "source": [
    "### Markdown 的使用：\n",
    "\n",
    "#### 一.点的使用：\n",
    "---\n",
    "* 列出几个观点\n",
    "* 不带序号的哦\n",
    "    * 子观点\n",
    "\n",
    "#### 二.带序号的观点：\n",
    "---\n",
    "1. 我是带序号的哦\n",
    "2. 哈哈\n",
    "2. 嘿嘿😝\n",
    "\n",
    "#### 二.黑体和斜体的使用：\n",
    "---\n",
    "* *这是斜体*\n",
    "\n",
    "* **这是粗体**\n",
    "\n",
    "#### 三.链接的引用和图片的引用：\n",
    "---\n",
    "* 链接引用：[MARKDOWN大全](https://www.jianshu.com/p/b03a8d7b1719)\n",
    "* 图片引用：![无所谓啦](https://timgsa.baidu.com/timg?image&quality=80&size=b9999_10000&sec=1532069834180&di=21fbaae85f216161c6a135f9d154ce85&imgtype=0&src=http%3A%2F%2Fs9.rr.itc.cn%2Fr%2FwapChange%2F20164_22_8%2Fa22vf03365725678352.jpg)\n"
   ]
  },
  {
   "cell_type": "markdown",
   "metadata": {},
   "source": [
    "### LateX的使用：\n",
    "---\n",
    "* $\\sum$\n",
    "* $\\sum_{i=1}^{i=n}$\n",
    "* $\\sum_{i=1}^{i=n}{x+y}$\n",
    "* $e^{i\\pi}+1=0$\n",
    "* [更多方法](https://blog.csdn.net/garfielder007/article/details/51646604)"
   ]
  },
  {
   "cell_type": "code",
   "execution_count": null,
   "metadata": {},
   "outputs": [],
   "source": []
  }
 ],
 "metadata": {
  "kernelspec": {
   "display_name": "Python 3",
   "language": "python",
   "name": "python3"
  },
  "language_info": {
   "codemirror_mode": {
    "name": "ipython",
    "version": 3
   },
   "file_extension": ".py",
   "mimetype": "text/x-python",
   "name": "python",
   "nbconvert_exporter": "python",
   "pygments_lexer": "ipython3",
   "version": "3.6.4"
  },
  "widgets": {
   "application/vnd.jupyter.widget-state+json": {
    "state": {},
    "version_major": 2,
    "version_minor": 0
   }
  }
 },
 "nbformat": 4,
 "nbformat_minor": 2
}
